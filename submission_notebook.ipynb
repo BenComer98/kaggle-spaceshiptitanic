{
 "cells": [
  {
   "cell_type": "code",
   "execution_count": 1,
   "id": "5c03f65b",
   "metadata": {
    "_cell_guid": "b1076dfc-b9ad-4769-8c92-a6c4dae69d19",
    "_uuid": "8f2839f25d086af736a60e9eeb907d3b93b6e0e5",
    "execution": {
     "iopub.execute_input": "2025-03-16T06:43:16.098537Z",
     "iopub.status.busy": "2025-03-16T06:43:16.098116Z",
     "iopub.status.idle": "2025-03-16T06:43:16.999535Z",
     "shell.execute_reply": "2025-03-16T06:43:16.998402Z"
    },
    "papermill": {
     "duration": 0.910457,
     "end_time": "2025-03-16T06:43:17.001255",
     "exception": false,
     "start_time": "2025-03-16T06:43:16.090798",
     "status": "completed"
    },
    "tags": []
   },
   "outputs": [
    {
     "name": "stdout",
     "output_type": "stream",
     "text": [
      "/kaggle/input/spaceship-titanic/sample_submission.csv\n",
      "/kaggle/input/spaceship-titanic/train.csv\n",
      "/kaggle/input/spaceship-titanic/test.csv\n"
     ]
    }
   ],
   "source": [
    "# This Python 3 environment comes with many helpful analytics libraries installed\n",
    "# It is defined by the kaggle/python Docker image: https://github.com/kaggle/docker-python\n",
    "# For example, here's several helpful packages to load\n",
    "\n",
    "import numpy as np # linear algebra\n",
    "import pandas as pd # data processing, CSV file I/O (e.g. pd.read_csv)\n",
    "\n",
    "# Input data files are available in the read-only \"../input/\" directory\n",
    "# For example, running this (by clicking run or pressing Shift+Enter) will list all files under the input directory\n",
    "\n",
    "import os\n",
    "for dirname, _, filenames in os.walk('/kaggle/input'):\n",
    "    for filename in filenames:\n",
    "        print(os.path.join(dirname, filename))\n",
    "\n",
    "# You can write up to 20GB to the current directory (/kaggle/working/) that gets preserved as output when you create a version using \"Save & Run All\" \n",
    "# You can also write temporary files to /kaggle/temp/, but they won't be saved outside of the current session"
   ]
  },
  {
   "cell_type": "code",
   "execution_count": 2,
   "id": "3a9bccad",
   "metadata": {
    "execution": {
     "iopub.execute_input": "2025-03-16T06:43:17.013898Z",
     "iopub.status.busy": "2025-03-16T06:43:17.013449Z",
     "iopub.status.idle": "2025-03-16T06:43:17.017623Z",
     "shell.execute_reply": "2025-03-16T06:43:17.016794Z"
    },
    "papermill": {
     "duration": 0.011909,
     "end_time": "2025-03-16T06:43:17.019008",
     "exception": false,
     "start_time": "2025-03-16T06:43:17.007099",
     "status": "completed"
    },
    "tags": []
   },
   "outputs": [],
   "source": [
    "# Debug flags\n",
    "run_voting = True\n",
    "run_stacking = True\n",
    "use_validation = True\n",
    "analysis = use_validation and True"
   ]
  },
  {
   "cell_type": "code",
   "execution_count": 3,
   "id": "f2f8a653",
   "metadata": {
    "execution": {
     "iopub.execute_input": "2025-03-16T06:43:17.030724Z",
     "iopub.status.busy": "2025-03-16T06:43:17.030438Z",
     "iopub.status.idle": "2025-03-16T06:43:17.086005Z",
     "shell.execute_reply": "2025-03-16T06:43:17.085145Z"
    },
    "papermill": {
     "duration": 0.063349,
     "end_time": "2025-03-16T06:43:17.087811",
     "exception": false,
     "start_time": "2025-03-16T06:43:17.024462",
     "status": "completed"
    },
    "tags": []
   },
   "outputs": [],
   "source": [
    "df = pd.read_csv('/kaggle/input/spaceship-titanic/train.csv')"
   ]
  },
  {
   "cell_type": "code",
   "execution_count": 4,
   "id": "4e2c0246",
   "metadata": {
    "execution": {
     "iopub.execute_input": "2025-03-16T06:43:17.099968Z",
     "iopub.status.busy": "2025-03-16T06:43:17.099634Z",
     "iopub.status.idle": "2025-03-16T06:43:17.132433Z",
     "shell.execute_reply": "2025-03-16T06:43:17.131194Z"
    },
    "papermill": {
     "duration": 0.040511,
     "end_time": "2025-03-16T06:43:17.134020",
     "exception": false,
     "start_time": "2025-03-16T06:43:17.093509",
     "status": "completed"
    },
    "tags": []
   },
   "outputs": [
    {
     "name": "stdout",
     "output_type": "stream",
     "text": [
      "<class 'pandas.core.frame.DataFrame'>\n",
      "RangeIndex: 8693 entries, 0 to 8692\n",
      "Data columns (total 14 columns):\n",
      " #   Column        Non-Null Count  Dtype  \n",
      "---  ------        --------------  -----  \n",
      " 0   PassengerId   8693 non-null   object \n",
      " 1   HomePlanet    8492 non-null   object \n",
      " 2   CryoSleep     8476 non-null   object \n",
      " 3   Cabin         8494 non-null   object \n",
      " 4   Destination   8511 non-null   object \n",
      " 5   Age           8514 non-null   float64\n",
      " 6   VIP           8490 non-null   object \n",
      " 7   RoomService   8512 non-null   float64\n",
      " 8   FoodCourt     8510 non-null   float64\n",
      " 9   ShoppingMall  8485 non-null   float64\n",
      " 10  Spa           8510 non-null   float64\n",
      " 11  VRDeck        8505 non-null   float64\n",
      " 12  Name          8493 non-null   object \n",
      " 13  Transported   8693 non-null   bool   \n",
      "dtypes: bool(1), float64(6), object(7)\n",
      "memory usage: 891.5+ KB\n"
     ]
    }
   ],
   "source": [
    "if analysis:\n",
    "    df.info()"
   ]
  },
  {
   "cell_type": "code",
   "execution_count": 5,
   "id": "e7be5220",
   "metadata": {
    "execution": {
     "iopub.execute_input": "2025-03-16T06:43:17.146338Z",
     "iopub.status.busy": "2025-03-16T06:43:17.145950Z",
     "iopub.status.idle": "2025-03-16T06:43:17.150972Z",
     "shell.execute_reply": "2025-03-16T06:43:17.150138Z"
    },
    "papermill": {
     "duration": 0.012834,
     "end_time": "2025-03-16T06:43:17.152523",
     "exception": false,
     "start_time": "2025-03-16T06:43:17.139689",
     "status": "completed"
    },
    "tags": []
   },
   "outputs": [
    {
     "name": "stdout",
     "output_type": "stream",
     "text": [
      "Index(['PassengerId', 'HomePlanet', 'CryoSleep', 'Cabin', 'Destination', 'Age',\n",
      "       'VIP', 'RoomService', 'FoodCourt', 'ShoppingMall', 'Spa', 'VRDeck',\n",
      "       'Name', 'Transported'],\n",
      "      dtype='object')\n"
     ]
    }
   ],
   "source": [
    "if analysis:\n",
    "    print(df.columns)"
   ]
  },
  {
   "cell_type": "code",
   "execution_count": 6,
   "id": "907f191d",
   "metadata": {
    "execution": {
     "iopub.execute_input": "2025-03-16T06:43:17.164402Z",
     "iopub.status.busy": "2025-03-16T06:43:17.164029Z",
     "iopub.status.idle": "2025-03-16T06:43:17.180320Z",
     "shell.execute_reply": "2025-03-16T06:43:17.179204Z"
    },
    "papermill": {
     "duration": 0.023918,
     "end_time": "2025-03-16T06:43:17.181906",
     "exception": false,
     "start_time": "2025-03-16T06:43:17.157988",
     "status": "completed"
    },
    "tags": []
   },
   "outputs": [
    {
     "name": "stdout",
     "output_type": "stream",
     "text": [
      "<class 'pandas.core.frame.DataFrame'>\n",
      "RangeIndex: 8693 entries, 0 to 8692\n",
      "Data columns (total 12 columns):\n",
      " #   Column        Non-Null Count  Dtype  \n",
      "---  ------        --------------  -----  \n",
      " 0   HomePlanet    8492 non-null   object \n",
      " 1   CryoSleep     8476 non-null   object \n",
      " 2   Cabin         8494 non-null   object \n",
      " 3   Destination   8511 non-null   object \n",
      " 4   Age           8514 non-null   float64\n",
      " 5   VIP           8490 non-null   object \n",
      " 6   RoomService   8512 non-null   float64\n",
      " 7   FoodCourt     8510 non-null   float64\n",
      " 8   ShoppingMall  8485 non-null   float64\n",
      " 9   Spa           8510 non-null   float64\n",
      " 10  VRDeck        8505 non-null   float64\n",
      " 11  Transported   8693 non-null   bool   \n",
      "dtypes: bool(1), float64(6), object(5)\n",
      "memory usage: 755.7+ KB\n"
     ]
    }
   ],
   "source": [
    "df = df.drop(columns = ['PassengerId', 'Name'], axis=1)\n",
    "if analysis:\n",
    "    df.info()"
   ]
  },
  {
   "cell_type": "code",
   "execution_count": 7,
   "id": "78e51730",
   "metadata": {
    "execution": {
     "iopub.execute_input": "2025-03-16T06:43:17.194388Z",
     "iopub.status.busy": "2025-03-16T06:43:17.194004Z",
     "iopub.status.idle": "2025-03-16T06:43:17.198747Z",
     "shell.execute_reply": "2025-03-16T06:43:17.197818Z"
    },
    "papermill": {
     "duration": 0.012462,
     "end_time": "2025-03-16T06:43:17.200084",
     "exception": false,
     "start_time": "2025-03-16T06:43:17.187622",
     "status": "completed"
    },
    "tags": []
   },
   "outputs": [],
   "source": [
    "#Checking out what each object contains in the columns where the data type within it are of type object.\n",
    "planet = df['HomePlanet'].iloc[0]\n",
    "cryosleep = df['CryoSleep'].iloc[0]\n",
    "cabin = df['Cabin'].iloc[0]\n",
    "destination = df['Destination'].iloc[0]\n",
    "vip = df['VIP'].iloc[0]\n",
    "\n",
    "#We see that cabin is of type string but contains useful information separated out by '/'"
   ]
  },
  {
   "cell_type": "code",
   "execution_count": 8,
   "id": "fc165d65",
   "metadata": {
    "execution": {
     "iopub.execute_input": "2025-03-16T06:43:17.212026Z",
     "iopub.status.busy": "2025-03-16T06:43:17.211731Z",
     "iopub.status.idle": "2025-03-16T06:43:17.240348Z",
     "shell.execute_reply": "2025-03-16T06:43:17.239190Z"
    },
    "papermill": {
     "duration": 0.03656,
     "end_time": "2025-03-16T06:43:17.242155",
     "exception": false,
     "start_time": "2025-03-16T06:43:17.205595",
     "status": "completed"
    },
    "tags": []
   },
   "outputs": [
    {
     "name": "stdout",
     "output_type": "stream",
     "text": [
      "<class 'pandas.core.frame.DataFrame'>\n",
      "RangeIndex: 8693 entries, 0 to 8692\n",
      "Data columns (total 13 columns):\n",
      " #   Column        Non-Null Count  Dtype  \n",
      "---  ------        --------------  -----  \n",
      " 0   HomePlanet    8492 non-null   object \n",
      " 1   CryoSleep     8476 non-null   object \n",
      " 2   Destination   8511 non-null   object \n",
      " 3   Age           8514 non-null   float64\n",
      " 4   VIP           8490 non-null   object \n",
      " 5   RoomService   8512 non-null   float64\n",
      " 6   FoodCourt     8510 non-null   float64\n",
      " 7   ShoppingMall  8485 non-null   float64\n",
      " 8   Spa           8510 non-null   float64\n",
      " 9   VRDeck        8505 non-null   float64\n",
      " 10  Transported   8693 non-null   bool   \n",
      " 11  CabinDeck     8494 non-null   object \n",
      " 12  CabinSide     8494 non-null   object \n",
      "dtypes: bool(1), float64(6), object(6)\n",
      "memory usage: 823.6+ KB\n"
     ]
    }
   ],
   "source": [
    "if 'Cabin' in df:\n",
    "    df[['CabinDeck', 'CabinNumber', 'CabinSide']] = df['Cabin'].str.split('/', expand=True)\n",
    "    df.drop(columns=['Cabin', 'CabinNumber'], inplace=True)\n",
    "    \n",
    "if analysis:\n",
    "    df.info()"
   ]
  },
  {
   "cell_type": "code",
   "execution_count": 9,
   "id": "c3fe4efd",
   "metadata": {
    "execution": {
     "iopub.execute_input": "2025-03-16T06:43:17.254992Z",
     "iopub.status.busy": "2025-03-16T06:43:17.254678Z",
     "iopub.status.idle": "2025-03-16T06:43:17.276190Z",
     "shell.execute_reply": "2025-03-16T06:43:17.274913Z"
    },
    "papermill": {
     "duration": 0.030117,
     "end_time": "2025-03-16T06:43:17.278113",
     "exception": false,
     "start_time": "2025-03-16T06:43:17.247996",
     "status": "completed"
    },
    "tags": []
   },
   "outputs": [
    {
     "name": "stdout",
     "output_type": "stream",
     "text": [
      "<class 'pandas.core.frame.DataFrame'>\n",
      "RangeIndex: 8693 entries, 0 to 8692\n",
      "Data columns (total 25 columns):\n",
      " #   Column                     Non-Null Count  Dtype  \n",
      "---  ------                     --------------  -----  \n",
      " 0   CryoSleep                  8476 non-null   object \n",
      " 1   Age                        8514 non-null   float64\n",
      " 2   VIP                        8490 non-null   object \n",
      " 3   RoomService                8512 non-null   float64\n",
      " 4   FoodCourt                  8510 non-null   float64\n",
      " 5   ShoppingMall               8485 non-null   float64\n",
      " 6   Spa                        8510 non-null   float64\n",
      " 7   VRDeck                     8505 non-null   float64\n",
      " 8   Transported                8693 non-null   bool   \n",
      " 9   HomePlanet_Earth           8693 non-null   bool   \n",
      " 10  HomePlanet_Europa          8693 non-null   bool   \n",
      " 11  HomePlanet_Mars            8693 non-null   bool   \n",
      " 12  Destination_55 Cancri e    8693 non-null   bool   \n",
      " 13  Destination_PSO J318.5-22  8693 non-null   bool   \n",
      " 14  Destination_TRAPPIST-1e    8693 non-null   bool   \n",
      " 15  CabinDeck_A                8693 non-null   bool   \n",
      " 16  CabinDeck_B                8693 non-null   bool   \n",
      " 17  CabinDeck_C                8693 non-null   bool   \n",
      " 18  CabinDeck_D                8693 non-null   bool   \n",
      " 19  CabinDeck_E                8693 non-null   bool   \n",
      " 20  CabinDeck_F                8693 non-null   bool   \n",
      " 21  CabinDeck_G                8693 non-null   bool   \n",
      " 22  CabinDeck_T                8693 non-null   bool   \n",
      " 23  CabinSide_P                8693 non-null   bool   \n",
      " 24  CabinSide_S                8693 non-null   bool   \n",
      "dtypes: bool(17), float64(6), object(2)\n",
      "memory usage: 687.8+ KB\n"
     ]
    }
   ],
   "source": [
    "#We use one-hot encoding on columns where the data are strings and cannot be converted to a true or false value\n",
    "df = pd.get_dummies(df, columns=['HomePlanet', 'Destination', 'CabinDeck', 'CabinSide'], drop_first=False)\n",
    "\n",
    "if analysis:\n",
    "    df.info()"
   ]
  },
  {
   "cell_type": "code",
   "execution_count": 10,
   "id": "ed047878",
   "metadata": {
    "execution": {
     "iopub.execute_input": "2025-03-16T06:43:17.291410Z",
     "iopub.status.busy": "2025-03-16T06:43:17.291034Z",
     "iopub.status.idle": "2025-03-16T06:43:17.316332Z",
     "shell.execute_reply": "2025-03-16T06:43:17.314754Z"
    },
    "papermill": {
     "duration": 0.033541,
     "end_time": "2025-03-16T06:43:17.317889",
     "exception": false,
     "start_time": "2025-03-16T06:43:17.284348",
     "status": "completed"
    },
    "tags": []
   },
   "outputs": [
    {
     "name": "stdout",
     "output_type": "stream",
     "text": [
      "<class 'pandas.core.frame.DataFrame'>\n",
      "RangeIndex: 8693 entries, 0 to 8692\n",
      "Data columns (total 25 columns):\n",
      " #   Column                     Non-Null Count  Dtype  \n",
      "---  ------                     --------------  -----  \n",
      " 0   CryoSleep                  8693 non-null   float64\n",
      " 1   Age                        8693 non-null   float64\n",
      " 2   VIP                        8693 non-null   float64\n",
      " 3   RoomService                8693 non-null   float64\n",
      " 4   FoodCourt                  8693 non-null   float64\n",
      " 5   ShoppingMall               8693 non-null   float64\n",
      " 6   Spa                        8693 non-null   float64\n",
      " 7   VRDeck                     8693 non-null   float64\n",
      " 8   Transported                8693 non-null   float64\n",
      " 9   HomePlanet_Earth           8693 non-null   float64\n",
      " 10  HomePlanet_Europa          8693 non-null   float64\n",
      " 11  HomePlanet_Mars            8693 non-null   float64\n",
      " 12  Destination_55 Cancri e    8693 non-null   float64\n",
      " 13  Destination_PSO J318.5-22  8693 non-null   float64\n",
      " 14  Destination_TRAPPIST-1e    8693 non-null   float64\n",
      " 15  CabinDeck_A                8693 non-null   float64\n",
      " 16  CabinDeck_B                8693 non-null   float64\n",
      " 17  CabinDeck_C                8693 non-null   float64\n",
      " 18  CabinDeck_D                8693 non-null   float64\n",
      " 19  CabinDeck_E                8693 non-null   float64\n",
      " 20  CabinDeck_F                8693 non-null   float64\n",
      " 21  CabinDeck_G                8693 non-null   float64\n",
      " 22  CabinDeck_T                8693 non-null   float64\n",
      " 23  CabinSide_P                8693 non-null   float64\n",
      " 24  CabinSide_S                8693 non-null   float64\n",
      "dtypes: float64(25)\n",
      "memory usage: 1.7 MB\n"
     ]
    },
    {
     "name": "stderr",
     "output_type": "stream",
     "text": [
      "<ipython-input-10-83583dcd374f>:3: FutureWarning: Downcasting object dtype arrays on .fillna, .ffill, .bfill is deprecated and will change in a future version. Call result.infer_objects(copy=False) instead. To opt-in to the future behavior, set `pd.set_option('future.no_silent_downcasting', True)`\n",
      "  df['CryoSleep'] = df['CryoSleep'].fillna(df['CryoSleep'].mode()[0] if not df['CryoSleep'].mode().empty else None)\n",
      "<ipython-input-10-83583dcd374f>:4: FutureWarning: Downcasting object dtype arrays on .fillna, .ffill, .bfill is deprecated and will change in a future version. Call result.infer_objects(copy=False) instead. To opt-in to the future behavior, set `pd.set_option('future.no_silent_downcasting', True)`\n",
      "  df['VIP'] = df['VIP'].fillna(df['VIP'].mode()[0] if not df['VIP'].mode().empty else None)\n"
     ]
    }
   ],
   "source": [
    "#Imputing the data to ensure there are no missing values in the columns\n",
    "#Starting with VIP and CryoSleep because they are true or false valued strings\n",
    "df['CryoSleep'] = df['CryoSleep'].fillna(df['CryoSleep'].mode()[0] if not df['CryoSleep'].mode().empty else None)\n",
    "df['VIP'] = df['VIP'].fillna(df['VIP'].mode()[0] if not df['VIP'].mode().empty else None)\n",
    "\n",
    "#Lastly imputing all of the missing values for the columns of data type float 64\n",
    "df['Age'] = df['Age'].fillna(df['Age'].mean())\n",
    "df['RoomService'] = df['RoomService'].fillna(df['RoomService'].mean())\n",
    "df['FoodCourt'] = df['FoodCourt'].fillna(df['FoodCourt'].mean())\n",
    "df['ShoppingMall'] = df['ShoppingMall'].fillna(df['ShoppingMall'].mean())\n",
    "df['Spa'] = df['Spa'].fillna(df['Spa'].mean())\n",
    "df['VRDeck'] = df['VRDeck'].fillna(df['VRDeck'].mean())\n",
    "\n",
    "#Converting every last column to a data type of float 64\n",
    "df = df.astype('float64')\n",
    "if analysis:\n",
    "    df.info()"
   ]
  },
  {
   "cell_type": "code",
   "execution_count": 11,
   "id": "49aef88b",
   "metadata": {
    "execution": {
     "iopub.execute_input": "2025-03-16T06:43:17.330808Z",
     "iopub.status.busy": "2025-03-16T06:43:17.330460Z",
     "iopub.status.idle": "2025-03-16T06:43:18.666618Z",
     "shell.execute_reply": "2025-03-16T06:43:18.665677Z"
    },
    "papermill": {
     "duration": 1.344628,
     "end_time": "2025-03-16T06:43:18.668434",
     "exception": false,
     "start_time": "2025-03-16T06:43:17.323806",
     "status": "completed"
    },
    "tags": []
   },
   "outputs": [],
   "source": [
    "# Features and splits\n",
    "from sklearn.model_selection import train_test_split\n",
    "from sklearn import metrics\n",
    "features = [column for column in df.columns if column != 'Transported']\n",
    "X = df[features]\n",
    "y = df['Transported']"
   ]
  },
  {
   "cell_type": "code",
   "execution_count": 12,
   "id": "090f650a",
   "metadata": {
    "execution": {
     "iopub.execute_input": "2025-03-16T06:43:18.681661Z",
     "iopub.status.busy": "2025-03-16T06:43:18.681147Z",
     "iopub.status.idle": "2025-03-16T06:43:18.691113Z",
     "shell.execute_reply": "2025-03-16T06:43:18.690290Z"
    },
    "papermill": {
     "duration": 0.018251,
     "end_time": "2025-03-16T06:43:18.692828",
     "exception": false,
     "start_time": "2025-03-16T06:43:18.674577",
     "status": "completed"
    },
    "tags": []
   },
   "outputs": [],
   "source": [
    "# Splitting data\n",
    "if use_validation:\n",
    "    X_train, X_val, y_train, y_val = train_test_split(X, y, test_size=0.3, random_state=1)\n",
    "else:\n",
    "    X_train, y_train = X, y"
   ]
  },
  {
   "cell_type": "code",
   "execution_count": 13,
   "id": "8277beed",
   "metadata": {
    "execution": {
     "iopub.execute_input": "2025-03-16T06:43:18.705533Z",
     "iopub.status.busy": "2025-03-16T06:43:18.705188Z",
     "iopub.status.idle": "2025-03-16T06:43:20.745817Z",
     "shell.execute_reply": "2025-03-16T06:43:20.744349Z"
    },
    "papermill": {
     "duration": 2.049471,
     "end_time": "2025-03-16T06:43:20.748171",
     "exception": false,
     "start_time": "2025-03-16T06:43:18.698700",
     "status": "completed"
    },
    "tags": []
   },
   "outputs": [
    {
     "name": "stdout",
     "output_type": "stream",
     "text": [
      "Accuracy: 0.79\n",
      "Confusion matrix:\n",
      "\t\tPredicted: 0\t\t\tPredicted: 1\n",
      "Actual: 0\t1048 (True Negative, TN)\t243 (False Positive, FP)\n",
      "Actual: 1\t302 (False Negative, FN)\t1015 (True Positive, TP)\n"
     ]
    }
   ],
   "source": [
    "#Multilayer Perceptron(MLP)\n",
    "from sklearn.neural_network import MLPClassifier\n",
    "\n",
    "#Model with activation function of ReLu\n",
    "modelRelu = MLPClassifier(hidden_layer_sizes=(128, 64), activation='relu', solver='adam', max_iter=5000, random_state=42)\n",
    "modelRelu.fit(X_train, y_train)\n",
    "\n",
    "if analysis:\n",
    "    #Prediction\n",
    "    y_pred = modelRelu.predict(X_val)\n",
    "    \n",
    "    #Accuracy\n",
    "    accuracy = metrics.accuracy_score(y_val, y_pred)\n",
    "    confusion_matrix = metrics.confusion_matrix(y_val, y_pred)\n",
    "    print(f\"Accuracy: {accuracy:.2f}\")\n",
    "    # Confusion matrix values\n",
    "    TN, FP, FN, TP = confusion_matrix.ravel()\n",
    "    print(f\"Confusion matrix:\\n\"\n",
    "          f\"\\t\\tPredicted: 0\\t\\t\\tPredicted: 1\\n\"\n",
    "          f\"Actual: 0\\t{TN} (True Negative, TN)\\t{FP} (False Positive, FP)\\n\"\n",
    "          f\"Actual: 1\\t{FN} (False Negative, FN)\\t{TP} (True Positive, TP)\")"
   ]
  },
  {
   "cell_type": "code",
   "execution_count": 14,
   "id": "0328d0a8",
   "metadata": {
    "execution": {
     "iopub.execute_input": "2025-03-16T06:43:20.763279Z",
     "iopub.status.busy": "2025-03-16T06:43:20.762914Z",
     "iopub.status.idle": "2025-03-16T06:43:29.482745Z",
     "shell.execute_reply": "2025-03-16T06:43:29.481519Z"
    },
    "papermill": {
     "duration": 8.728698,
     "end_time": "2025-03-16T06:43:29.484335",
     "exception": false,
     "start_time": "2025-03-16T06:43:20.755637",
     "status": "completed"
    },
    "tags": []
   },
   "outputs": [
    {
     "name": "stdout",
     "output_type": "stream",
     "text": [
      "Accuracy: 0.80\n",
      "Confusion matrix:\n",
      "\t\tPredicted: 0\t\t\tPredicted: 1\n",
      "Actual: 0\t985 (True Negative, TN)\t306 (False Positive, FP)\n",
      "Actual: 1\t208 (False Negative, FN)\t1109 (True Positive, TP)\n"
     ]
    }
   ],
   "source": [
    "#Model with activation function of ReLu with more hidden layers\n",
    "modelRelu2 = MLPClassifier(hidden_layer_sizes=(256, 128, 64, 32), activation='relu', solver='adam', max_iter=5000, random_state=42)\n",
    "modelRelu2.fit(X_train, y_train)\n",
    "\n",
    "if analysis:\n",
    "    #Prediction\n",
    "    y_pred = modelRelu2.predict(X_val)\n",
    "    \n",
    "    #Accuracy\n",
    "    accuracy = metrics.accuracy_score(y_val, y_pred)\n",
    "    confusion_matrix = metrics.confusion_matrix(y_val, y_pred)\n",
    "    print(f\"Accuracy: {accuracy:.2f}\")\n",
    "    # Confusion matrix values\n",
    "    TN, FP, FN, TP = confusion_matrix.ravel()\n",
    "    print(f\"Confusion matrix:\\n\"\n",
    "          f\"\\t\\tPredicted: 0\\t\\t\\tPredicted: 1\\n\"\n",
    "          f\"Actual: 0\\t{TN} (True Negative, TN)\\t{FP} (False Positive, FP)\\n\"\n",
    "          f\"Actual: 1\\t{FN} (False Negative, FN)\\t{TP} (True Positive, TP)\")"
   ]
  },
  {
   "cell_type": "code",
   "execution_count": 15,
   "id": "cfbb3949",
   "metadata": {
    "execution": {
     "iopub.execute_input": "2025-03-16T06:43:29.497829Z",
     "iopub.status.busy": "2025-03-16T06:43:29.497480Z",
     "iopub.status.idle": "2025-03-16T06:43:34.649338Z",
     "shell.execute_reply": "2025-03-16T06:43:34.648049Z"
    },
    "papermill": {
     "duration": 5.16058,
     "end_time": "2025-03-16T06:43:34.651054",
     "exception": false,
     "start_time": "2025-03-16T06:43:29.490474",
     "status": "completed"
    },
    "tags": []
   },
   "outputs": [
    {
     "name": "stdout",
     "output_type": "stream",
     "text": [
      "Accuracy: 0.79\n",
      "Confusion matrix:\n",
      "\t\tPredicted: 0\t\t\tPredicted: 1\n",
      "Actual: 0\t983 (True Negative, TN)\t308 (False Positive, FP)\n",
      "Actual: 1\t247 (False Negative, FN)\t1070 (True Positive, TP)\n"
     ]
    }
   ],
   "source": [
    "#Model with activation function of Tanh\n",
    "modelTanh = MLPClassifier(hidden_layer_sizes=(128, 64), activation='tanh', solver='adam', max_iter=5000, random_state=42)\n",
    "modelTanh.fit(X_train, y_train)\n",
    "\n",
    "if analysis:\n",
    "    #Prediction\n",
    "    y_pred = modelTanh.predict(X_val)\n",
    "    \n",
    "    #Accuracy\n",
    "    accuracy = metrics.accuracy_score(y_val, y_pred)\n",
    "    confusion_matrix = metrics.confusion_matrix(y_val, y_pred)\n",
    "    print(f\"Accuracy: {accuracy:.2f}\")\n",
    "    # Confusion matrix values\n",
    "    TN, FP, FN, TP = confusion_matrix.ravel()\n",
    "    print(f\"Confusion matrix:\\n\"\n",
    "          f\"\\t\\tPredicted: 0\\t\\t\\tPredicted: 1\\n\"\n",
    "          f\"Actual: 0\\t{TN} (True Negative, TN)\\t{FP} (False Positive, FP)\\n\"\n",
    "          f\"Actual: 1\\t{FN} (False Negative, FN)\\t{TP} (True Positive, TP)\")"
   ]
  },
  {
   "cell_type": "code",
   "execution_count": 16,
   "id": "55c5725d",
   "metadata": {
    "execution": {
     "iopub.execute_input": "2025-03-16T06:43:34.665601Z",
     "iopub.status.busy": "2025-03-16T06:43:34.665206Z",
     "iopub.status.idle": "2025-03-16T06:43:49.134397Z",
     "shell.execute_reply": "2025-03-16T06:43:49.133144Z"
    },
    "papermill": {
     "duration": 14.478576,
     "end_time": "2025-03-16T06:43:49.136336",
     "exception": false,
     "start_time": "2025-03-16T06:43:34.657760",
     "status": "completed"
    },
    "tags": []
   },
   "outputs": [
    {
     "name": "stdout",
     "output_type": "stream",
     "text": [
      "Accuracy: 0.79\n",
      "Confusion matrix:\n",
      "\t\tPredicted: 0\t\t\tPredicted: 1\n",
      "Actual: 0\t1025 (True Negative, TN)\t266 (False Positive, FP)\n",
      "Actual: 1\t277 (False Negative, FN)\t1040 (True Positive, TP)\n"
     ]
    }
   ],
   "source": [
    "#Model with activation function of Tanh with more hidden layers\n",
    "modelTanh2 = MLPClassifier(hidden_layer_sizes=(256, 128, 64, 32), activation='tanh', solver='adam', max_iter=5000, random_state=42)\n",
    "modelTanh2.fit(X_train, y_train)\n",
    "\n",
    "if analysis:\n",
    "    #Prediction\n",
    "    y_pred = modelTanh2.predict(X_val)\n",
    "    \n",
    "    #Accuracy\n",
    "    accuracy = metrics.accuracy_score(y_val, y_pred)\n",
    "    confusion_matrix = metrics.confusion_matrix(y_val, y_pred)\n",
    "    print(f\"Accuracy: {accuracy:.2f}\")\n",
    "    # Confusion matrix values\n",
    "    TN, FP, FN, TP = confusion_matrix.ravel()\n",
    "    print(f\"Confusion matrix:\\n\"\n",
    "          f\"\\t\\tPredicted: 0\\t\\t\\tPredicted: 1\\n\"\n",
    "          f\"Actual: 0\\t{TN} (True Negative, TN)\\t{FP} (False Positive, FP)\\n\"\n",
    "          f\"Actual: 1\\t{FN} (False Negative, FN)\\t{TP} (True Positive, TP)\")"
   ]
  },
  {
   "cell_type": "code",
   "execution_count": 17,
   "id": "3ea5523e",
   "metadata": {
    "execution": {
     "iopub.execute_input": "2025-03-16T06:43:49.151080Z",
     "iopub.status.busy": "2025-03-16T06:43:49.150732Z",
     "iopub.status.idle": "2025-03-16T06:43:55.396744Z",
     "shell.execute_reply": "2025-03-16T06:43:55.395601Z"
    },
    "papermill": {
     "duration": 6.255061,
     "end_time": "2025-03-16T06:43:55.398391",
     "exception": false,
     "start_time": "2025-03-16T06:43:49.143330",
     "status": "completed"
    },
    "tags": []
   },
   "outputs": [
    {
     "name": "stdout",
     "output_type": "stream",
     "text": [
      "Accuracy: 0.78\n",
      "Confusion matrix:\n",
      "\t\tPredicted: 0\t\t\tPredicted: 1\n",
      "Actual: 0\t1080 (True Negative, TN)\t211 (False Positive, FP)\n",
      "Actual: 1\t350 (False Negative, FN)\t967 (True Positive, TP)\n"
     ]
    }
   ],
   "source": [
    "#Model with activation function of logistic\n",
    "modelLogistic = MLPClassifier(hidden_layer_sizes=(128, 64), activation='logistic', solver='adam', max_iter=5000, random_state=42)\n",
    "modelLogistic.fit(X_train, y_train)\n",
    "\n",
    "if analysis:\n",
    "    #Prediction\n",
    "    y_pred = modelLogistic.predict(X_val)\n",
    "    \n",
    "    #Accuracy\n",
    "    accuracy = metrics.accuracy_score(y_val, y_pred)\n",
    "    confusion_matrix = metrics.confusion_matrix(y_val, y_pred)\n",
    "    print(f\"Accuracy: {accuracy:.2f}\")\n",
    "    # Confusion matrix values\n",
    "    TN, FP, FN, TP = confusion_matrix.ravel()\n",
    "    print(f\"Confusion matrix:\\n\"\n",
    "          f\"\\t\\tPredicted: 0\\t\\t\\tPredicted: 1\\n\"\n",
    "          f\"Actual: 0\\t{TN} (True Negative, TN)\\t{FP} (False Positive, FP)\\n\"\n",
    "          f\"Actual: 1\\t{FN} (False Negative, FN)\\t{TP} (True Positive, TP)\")"
   ]
  },
  {
   "cell_type": "code",
   "execution_count": 18,
   "id": "82f85981",
   "metadata": {
    "execution": {
     "iopub.execute_input": "2025-03-16T06:43:55.412087Z",
     "iopub.status.busy": "2025-03-16T06:43:55.411786Z",
     "iopub.status.idle": "2025-03-16T06:44:18.133521Z",
     "shell.execute_reply": "2025-03-16T06:44:18.132401Z"
    },
    "papermill": {
     "duration": 22.730258,
     "end_time": "2025-03-16T06:44:18.135109",
     "exception": false,
     "start_time": "2025-03-16T06:43:55.404851",
     "status": "completed"
    },
    "tags": []
   },
   "outputs": [
    {
     "name": "stdout",
     "output_type": "stream",
     "text": [
      "Accuracy: 0.78\n",
      "Confusion matrix:\n",
      "\t\tPredicted: 0\t\t\tPredicted: 1\n",
      "Actual: 0\t1030 (True Negative, TN)\t261 (False Positive, FP)\n",
      "Actual: 1\t313 (False Negative, FN)\t1004 (True Positive, TP)\n"
     ]
    }
   ],
   "source": [
    "#Model with activation function of logistic with more hidden layers\n",
    "modelLogistic2 = MLPClassifier(hidden_layer_sizes=(256, 128, 64, 32), activation='logistic', solver='adam', max_iter=5000, random_state=42)\n",
    "modelLogistic2.fit(X_train, y_train)\n",
    "\n",
    "if analysis:\n",
    "    #Prediction\n",
    "    y_pred = modelLogistic2.predict(X_val)\n",
    "    \n",
    "    #Accuracy\n",
    "    accuracy = metrics.accuracy_score(y_val, y_pred)\n",
    "    confusion_matrix = metrics.confusion_matrix(y_val, y_pred)\n",
    "    print(f\"Accuracy: {accuracy:.2f}\")\n",
    "    #print(\"Confusion matrix:\\n\", confusion_matrix)\n",
    "    # Confusion matrix values\n",
    "    TN, FP, FN, TP = confusion_matrix.ravel()\n",
    "    print(f\"Confusion matrix:\\n\"\n",
    "          f\"\\t\\tPredicted: 0\\t\\t\\tPredicted: 1\\n\"\n",
    "          f\"Actual: 0\\t{TN} (True Negative, TN)\\t{FP} (False Positive, FP)\\n\"\n",
    "          f\"Actual: 1\\t{FN} (False Negative, FN)\\t{TP} (True Positive, TP)\")"
   ]
  },
  {
   "cell_type": "code",
   "execution_count": 19,
   "id": "91a0f9fa",
   "metadata": {
    "execution": {
     "iopub.execute_input": "2025-03-16T06:44:18.149554Z",
     "iopub.status.busy": "2025-03-16T06:44:18.149151Z",
     "iopub.status.idle": "2025-03-16T06:44:18.196237Z",
     "shell.execute_reply": "2025-03-16T06:44:18.194946Z"
    },
    "papermill": {
     "duration": 0.055879,
     "end_time": "2025-03-16T06:44:18.197926",
     "exception": false,
     "start_time": "2025-03-16T06:44:18.142047",
     "status": "completed"
    },
    "tags": []
   },
   "outputs": [
    {
     "name": "stdout",
     "output_type": "stream",
     "text": [
      "Accuracy: 0.74\n",
      "Classification Report:\n",
      "               precision    recall  f1-score   support\n",
      "\n",
      "         0.0       0.85      0.58      0.69      1291\n",
      "         1.0       0.69      0.90      0.78      1317\n",
      "\n",
      "    accuracy                           0.74      2608\n",
      "   macro avg       0.77      0.74      0.74      2608\n",
      "weighted avg       0.77      0.74      0.74      2608\n",
      "\n",
      "Confusion matrix:\n",
      "\t\tPredicted: 0\t\t\tPredicted: 1\n",
      "Actual: 0\t752 (True Negative, TN)\t539 (False Positive, FP)\n",
      "Actual: 1\t129 (False Negative, FN)\t1188 (True Positive, TP)\n"
     ]
    }
   ],
   "source": [
    "from sklearn.naive_bayes import GaussianNB\n",
    "from sklearn.metrics import accuracy_score, classification_report\n",
    "\n",
    "nb_classifier = GaussianNB()\n",
    "nb_classifier.fit(X_train, y_train)\n",
    "\n",
    "if analysis:\n",
    "    y_pred = nb_classifier.predict(X_val)\n",
    "    \n",
    "    accuracy = accuracy_score(y_val, y_pred)\n",
    "    print(f\"Accuracy: {accuracy:.2f}\")\n",
    "    print(\"Classification Report:\\n\", classification_report(y_val, y_pred))\n",
    "\n",
    "     # Confusion matrix values\n",
    "    confusion_matrix = metrics.confusion_matrix(y_val, y_pred)\n",
    "    TN, FP, FN, TP = confusion_matrix.ravel()\n",
    "    print(f\"Confusion matrix:\\n\"\n",
    "          f\"\\t\\tPredicted: 0\\t\\t\\tPredicted: 1\\n\"\n",
    "          f\"Actual: 0\\t{TN} (True Negative, TN)\\t{FP} (False Positive, FP)\\n\"\n",
    "          f\"Actual: 1\\t{FN} (False Negative, FN)\\t{TP} (True Positive, TP)\")"
   ]
  },
  {
   "cell_type": "code",
   "execution_count": 20,
   "id": "d6176515",
   "metadata": {
    "execution": {
     "iopub.execute_input": "2025-03-16T06:44:18.212056Z",
     "iopub.status.busy": "2025-03-16T06:44:18.211727Z",
     "iopub.status.idle": "2025-03-16T06:44:20.125307Z",
     "shell.execute_reply": "2025-03-16T06:44:20.123948Z"
    },
    "papermill": {
     "duration": 1.923168,
     "end_time": "2025-03-16T06:44:20.127617",
     "exception": false,
     "start_time": "2025-03-16T06:44:18.204449",
     "status": "completed"
    },
    "tags": []
   },
   "outputs": [
    {
     "name": "stdout",
     "output_type": "stream",
     "text": [
      "Accuracy: 0.79\n",
      "Classification Report:\n",
      "               precision    recall  f1-score   support\n",
      "\n",
      "         0.0       0.85      0.71      0.77      1291\n",
      "         1.0       0.75      0.88      0.81      1317\n",
      "\n",
      "    accuracy                           0.79      2608\n",
      "   macro avg       0.80      0.79      0.79      2608\n",
      "weighted avg       0.80      0.79      0.79      2608\n",
      "\n",
      "Confusion matrix:\n",
      "\t\tPredicted: 0\t\t\tPredicted: 1\n",
      "Actual: 0\t912 (True Negative, TN)\t379 (False Positive, FP)\n",
      "Actual: 1\t159 (False Negative, FN)\t1158 (True Positive, TP)\n"
     ]
    }
   ],
   "source": [
    "from sklearn.svm import SVC\n",
    "from sklearn.model_selection import cross_val_score, StratifiedKFold\n",
    "import numpy as np\n",
    "\n",
    "# Initialize SVM classifier\n",
    "svm_rbf_classifier = SVC(kernel='rbf', C=1.0, gamma='scale', random_state=42)\n",
    "svm_rbf_classifier.fit(X_train, y_train)\n",
    "\n",
    "if analysis:\n",
    "    y_pred = svm_rbf_classifier.predict(X_val)\n",
    "    \n",
    "    accuracy = accuracy_score(y_val, y_pred)\n",
    "    print(f\"Accuracy: {accuracy:.2f}\")\n",
    "    print(\"Classification Report:\\n\", classification_report(y_val, y_pred))\n",
    "\n",
    " # Confusion matrix values\n",
    "    confusion_matrix = metrics.confusion_matrix(y_val, y_pred)\n",
    "    TN, FP, FN, TP = confusion_matrix.ravel()\n",
    "    print(f\"Confusion matrix:\\n\"\n",
    "          f\"\\t\\tPredicted: 0\\t\\t\\tPredicted: 1\\n\"\n",
    "          f\"Actual: 0\\t{TN} (True Negative, TN)\\t{FP} (False Positive, FP)\\n\"\n",
    "          f\"Actual: 1\\t{FN} (False Negative, FN)\\t{TP} (True Positive, TP)\")"
   ]
  },
  {
   "cell_type": "code",
   "execution_count": 21,
   "id": "8038cca5",
   "metadata": {
    "execution": {
     "iopub.execute_input": "2025-03-16T06:44:20.142862Z",
     "iopub.status.busy": "2025-03-16T06:44:20.142503Z",
     "iopub.status.idle": "2025-03-16T06:44:22.085046Z",
     "shell.execute_reply": "2025-03-16T06:44:22.083655Z"
    },
    "papermill": {
     "duration": 1.952037,
     "end_time": "2025-03-16T06:44:22.086892",
     "exception": false,
     "start_time": "2025-03-16T06:44:20.134855",
     "status": "completed"
    },
    "tags": []
   },
   "outputs": [
    {
     "name": "stdout",
     "output_type": "stream",
     "text": [
      "Accuracy: 0.73\n",
      "Classification Report:\n",
      "               precision    recall  f1-score   support\n",
      "\n",
      "         0.0       0.73      0.73      0.73      1291\n",
      "         1.0       0.73      0.73      0.73      1317\n",
      "\n",
      "    accuracy                           0.73      2608\n",
      "   macro avg       0.73      0.73      0.73      2608\n",
      "weighted avg       0.73      0.73      0.73      2608\n",
      "\n",
      "Confusion matrix:\n",
      "\t\tPredicted: 0\t\t\tPredicted: 1\n",
      "Actual: 0\t940 (True Negative, TN)\t351 (False Positive, FP)\n",
      "Actual: 1\t350 (False Negative, FN)\t967 (True Positive, TP)\n"
     ]
    }
   ],
   "source": [
    "# Initialize sigmoid SVM classifier\n",
    "svm_sig_classifier = SVC(kernel='sigmoid', coef0=0.5, random_state=42)\n",
    "svm_sig_classifier.fit(X_train, y_train)\n",
    "\n",
    "if analysis:\n",
    "    y_pred = svm_sig_classifier.predict(X_val)\n",
    "    \n",
    "    accuracy = accuracy_score(y_val, y_pred)\n",
    "    print(f\"Accuracy: {accuracy:.2f}\")\n",
    "    print(\"Classification Report:\\n\", classification_report(y_val, y_pred))\n",
    "    \n",
    "    # Confusion matrix values\n",
    "    confusion_matrix = metrics.confusion_matrix(y_val, y_pred)\n",
    "    TN, FP, FN, TP = confusion_matrix.ravel()\n",
    "    print(f\"Confusion matrix:\\n\"\n",
    "          f\"\\t\\tPredicted: 0\\t\\t\\tPredicted: 1\\n\"\n",
    "          f\"Actual: 0\\t{TN} (True Negative, TN)\\t{FP} (False Positive, FP)\\n\"\n",
    "          f\"Actual: 1\\t{FN} (False Negative, FN)\\t{TP} (True Positive, TP)\")"
   ]
  },
  {
   "cell_type": "code",
   "execution_count": 22,
   "id": "71c61627",
   "metadata": {
    "execution": {
     "iopub.execute_input": "2025-03-16T06:44:22.101728Z",
     "iopub.status.busy": "2025-03-16T06:44:22.101373Z",
     "iopub.status.idle": "2025-03-16T06:44:22.296732Z",
     "shell.execute_reply": "2025-03-16T06:44:22.295353Z"
    },
    "papermill": {
     "duration": 0.205043,
     "end_time": "2025-03-16T06:44:22.298766",
     "exception": false,
     "start_time": "2025-03-16T06:44:22.093723",
     "status": "completed"
    },
    "tags": []
   },
   "outputs": [
    {
     "name": "stdout",
     "output_type": "stream",
     "text": [
      "Accuracy: 0.78\n",
      "Classification Report:\n",
      "               precision    recall  f1-score   support\n",
      "\n",
      "         0.0       0.86      0.65      0.74      1291\n",
      "         1.0       0.73      0.89      0.80      1317\n",
      "\n",
      "    accuracy                           0.78      2608\n",
      "   macro avg       0.79      0.77      0.77      2608\n",
      "weighted avg       0.79      0.78      0.77      2608\n",
      "\n",
      "Confusion matrix:\n",
      "\t\tPredicted: 0\t\t\tPredicted: 1\n",
      "Actual: 0\t845 (True Negative, TN)\t446 (False Positive, FP)\n",
      "Actual: 1\t139 (False Negative, FN)\t1178 (True Positive, TP)\n"
     ]
    }
   ],
   "source": [
    "# Decision Tree Models\n",
    "# A ton of code was referenced from https://www.datacamp.com/tutorial/decision-tree-classification-python\n",
    "from sklearn.tree import DecisionTreeClassifier\n",
    "from sklearn.model_selection import train_test_split\n",
    "from sklearn import metrics\n",
    "\n",
    "dt_classifier = DecisionTreeClassifier(criterion='entropy', max_depth=5)\n",
    "dt_classifier = dt_classifier.fit(X_train, y_train)\n",
    "\n",
    "if analysis:\n",
    "    y_pred = dt_classifier.predict(X_val)\n",
    "    \n",
    "    accuracy = accuracy_score(y_val, y_pred)\n",
    "    print(f\"Accuracy: {accuracy:.2f}\")\n",
    "    print(\"Classification Report:\\n\", classification_report(y_val, y_pred))\n",
    "    \n",
    "    # Confusion matrix values\n",
    "    confusion_matrix = metrics.confusion_matrix(y_val, y_pred)\n",
    "    TN, FP, FN, TP = confusion_matrix.ravel()\n",
    "    print(f\"Confusion matrix:\\n\"\n",
    "          f\"\\t\\tPredicted: 0\\t\\t\\tPredicted: 1\\n\"\n",
    "          f\"Actual: 0\\t{TN} (True Negative, TN)\\t{FP} (False Positive, FP)\\n\"\n",
    "          f\"Actual: 1\\t{FN} (False Negative, FN)\\t{TP} (True Positive, TP)\")"
   ]
  },
  {
   "cell_type": "code",
   "execution_count": 23,
   "id": "f9afeaa8",
   "metadata": {
    "execution": {
     "iopub.execute_input": "2025-03-16T06:44:22.314132Z",
     "iopub.status.busy": "2025-03-16T06:44:22.313802Z",
     "iopub.status.idle": "2025-03-16T06:44:23.149666Z",
     "shell.execute_reply": "2025-03-16T06:44:23.148367Z"
    },
    "papermill": {
     "duration": 0.845609,
     "end_time": "2025-03-16T06:44:23.151494",
     "exception": false,
     "start_time": "2025-03-16T06:44:22.305885",
     "status": "completed"
    },
    "tags": []
   },
   "outputs": [
    {
     "name": "stdout",
     "output_type": "stream",
     "text": [
      "Accuracy: 0.79\n",
      "Classification Report:\n",
      "               precision    recall  f1-score   support\n",
      "\n",
      "         0.0       0.78      0.82      0.80      1291\n",
      "         1.0       0.81      0.77      0.79      1317\n",
      "\n",
      "    accuracy                           0.79      2608\n",
      "   macro avg       0.80      0.79      0.79      2608\n",
      "weighted avg       0.80      0.79      0.79      2608\n",
      "\n",
      "Confusion matrix:\n",
      "\t\tPredicted: 0\t\t\tPredicted: 1\n",
      "Actual: 0\t1054 (True Negative, TN)\t237 (False Positive, FP)\n",
      "Actual: 1\t299 (False Negative, FN)\t1018 (True Positive, TP)\n"
     ]
    }
   ],
   "source": [
    "# Random Forest models\n",
    "from sklearn.ensemble import RandomForestClassifier\n",
    "\n",
    "rf_classifier = RandomForestClassifier(n_estimators=100, criterion='entropy', max_depth=13, random_state=1)\n",
    "rf_classifier.fit(X_train, y_train)\n",
    "\n",
    "if analysis:\n",
    "    y_pred = rf_classifier.predict(X_val)\n",
    "    \n",
    "    accuracy = accuracy_score(y_val, y_pred)\n",
    "    print(f\"Accuracy: {accuracy:.2f}\")\n",
    "    print(\"Classification Report:\\n\", classification_report(y_val, y_pred))\n",
    "    \n",
    "    # Confusion matrix values\n",
    "    confusion_matrix = metrics.confusion_matrix(y_val, y_pred)\n",
    "    TN, FP, FN, TP = confusion_matrix.ravel()\n",
    "    print(f\"Confusion matrix:\\n\"\n",
    "          f\"\\t\\tPredicted: 0\\t\\t\\tPredicted: 1\\n\"\n",
    "          f\"Actual: 0\\t{TN} (True Negative, TN)\\t{FP} (False Positive, FP)\\n\"\n",
    "          f\"Actual: 1\\t{FN} (False Negative, FN)\\t{TP} (True Positive, TP)\")"
   ]
  },
  {
   "cell_type": "code",
   "execution_count": 24,
   "id": "29f2f459",
   "metadata": {
    "execution": {
     "iopub.execute_input": "2025-03-16T06:44:23.167321Z",
     "iopub.status.busy": "2025-03-16T06:44:23.166933Z",
     "iopub.status.idle": "2025-03-16T06:44:23.172138Z",
     "shell.execute_reply": "2025-03-16T06:44:23.170996Z"
    },
    "papermill": {
     "duration": 0.014902,
     "end_time": "2025-03-16T06:44:23.173899",
     "exception": false,
     "start_time": "2025-03-16T06:44:23.158997",
     "status": "completed"
    },
    "tags": []
   },
   "outputs": [],
   "source": [
    "# Ensemble Method\n",
    "models = [\n",
    "    ('2-layer Relu Neural Network', modelRelu),\n",
    "    ('4-layer Relu Neural Network', modelRelu2),\n",
    "    ('2-layer Tanh Neural Network', modelTanh),\n",
    "    ('4-layer Tanh Neural Network', modelTanh2),\n",
    "    ('2-layer Logistic Neural Network', modelLogistic),\n",
    "    ('4-layer Logistic Neural Network', modelLogistic2),\n",
    "    ('Naive Bayes Classifier', nb_classifier), \n",
    "    ('SVM Sigmoid Classifier', svm_sig_classifier), \n",
    "    ('SVM RBF Classifier', svm_rbf_classifier), \n",
    "    ('Decision Tree Classifier', dt_classifier), \n",
    "    ('Random Forest Classifier', rf_classifier)\n",
    "]"
   ]
  },
  {
   "cell_type": "code",
   "execution_count": 25,
   "id": "b323d43b",
   "metadata": {
    "execution": {
     "iopub.execute_input": "2025-03-16T06:44:23.189256Z",
     "iopub.status.busy": "2025-03-16T06:44:23.188882Z",
     "iopub.status.idle": "2025-03-16T06:45:27.676335Z",
     "shell.execute_reply": "2025-03-16T06:45:27.675281Z"
    },
    "papermill": {
     "duration": 64.503694,
     "end_time": "2025-03-16T06:45:27.684711",
     "exception": false,
     "start_time": "2025-03-16T06:44:23.181017",
     "status": "completed"
    },
    "tags": []
   },
   "outputs": [
    {
     "name": "stdout",
     "output_type": "stream",
     "text": [
      "Accuracy: 0.81\n",
      "Classification Report:\n",
      "               precision    recall  f1-score   support\n",
      "\n",
      "         0.0       0.82      0.78      0.80      1291\n",
      "         1.0       0.79      0.84      0.82      1317\n",
      "\n",
      "    accuracy                           0.81      2608\n",
      "   macro avg       0.81      0.81      0.81      2608\n",
      "weighted avg       0.81      0.81      0.81      2608\n",
      "\n",
      "Confusion matrix:\n",
      "\t\tPredicted: 0\t\t\tPredicted: 1\n",
      "Actual: 0\t1004 (True Negative, TN)\t287 (False Positive, FP)\n",
      "Actual: 1\t213 (False Negative, FN)\t1104 (True Positive, TP)\n"
     ]
    }
   ],
   "source": [
    "from sklearn.ensemble import VotingClassifier\n",
    "\n",
    "if run_voting:\n",
    "    voting_classifier = VotingClassifier(estimators=models, voting='hard')\n",
    "    voting_classifier.fit(X_train, y_train)\n",
    "    \n",
    "    if analysis:\n",
    "        y_pred = voting_classifier.predict(X_val)\n",
    "        \n",
    "        accuracy = accuracy_score(y_val, y_pred)\n",
    "        print(f\"Accuracy: {accuracy:.2f}\")\n",
    "        print(\"Classification Report:\\n\", classification_report(y_val, y_pred))\n",
    "        \n",
    "        # Confusion matrix values\n",
    "        confusion_matrix = metrics.confusion_matrix(y_val, y_pred)\n",
    "        TN, FP, FN, TP = confusion_matrix.ravel()\n",
    "        print(f\"Confusion matrix:\\n\"\n",
    "              f\"\\t\\tPredicted: 0\\t\\t\\tPredicted: 1\\n\"\n",
    "              f\"Actual: 0\\t{TN} (True Negative, TN)\\t{FP} (False Positive, FP)\\n\"\n",
    "              f\"Actual: 1\\t{FN} (False Negative, FN)\\t{TP} (True Positive, TP)\")"
   ]
  },
  {
   "cell_type": "code",
   "execution_count": 26,
   "id": "b1947175",
   "metadata": {
    "execution": {
     "iopub.execute_input": "2025-03-16T06:45:27.699947Z",
     "iopub.status.busy": "2025-03-16T06:45:27.699626Z",
     "iopub.status.idle": "2025-03-16T06:50:38.268491Z",
     "shell.execute_reply": "2025-03-16T06:50:38.267451Z"
    },
    "papermill": {
     "duration": 310.591043,
     "end_time": "2025-03-16T06:50:38.282831",
     "exception": false,
     "start_time": "2025-03-16T06:45:27.691788",
     "status": "completed"
    },
    "tags": []
   },
   "outputs": [
    {
     "name": "stdout",
     "output_type": "stream",
     "text": [
      "Accuracy: 0.80\n",
      "Classification Report:\n",
      "               precision    recall  f1-score   support\n",
      "\n",
      "         0.0       0.80      0.80      0.80      1291\n",
      "         1.0       0.81      0.81      0.81      1317\n",
      "\n",
      "    accuracy                           0.80      2608\n",
      "   macro avg       0.80      0.80      0.80      2608\n",
      "weighted avg       0.80      0.80      0.80      2608\n",
      "\n",
      "Confusion matrix:\n",
      "\t\tPredicted: 0\t\t\tPredicted: 1\n",
      "Actual: 0\t1036 (True Negative, TN)\t255 (False Positive, FP)\n",
      "Actual: 1\t256 (False Negative, FN)\t1061 (True Positive, TP)\n"
     ]
    }
   ],
   "source": [
    "from sklearn.ensemble import StackingClassifier\n",
    "\n",
    "if run_stacking:\n",
    "    stacking_classifier = StackingClassifier(estimators=models)\n",
    "    stacking_classifier.fit(X_train, y_train)\n",
    "    \n",
    "    if analysis:\n",
    "        y_pred = stacking_classifier.predict(X_val)\n",
    "        \n",
    "        accuracy = accuracy_score(y_val, y_pred)\n",
    "        print(f\"Accuracy: {accuracy:.2f}\")\n",
    "        print(\"Classification Report:\\n\", classification_report(y_val, y_pred))\n",
    "        \n",
    "        # Confusion matrix values\n",
    "        confusion_matrix = metrics.confusion_matrix(y_val, y_pred)\n",
    "        TN, FP, FN, TP = confusion_matrix.ravel()\n",
    "        print(f\"Confusion matrix:\\n\"\n",
    "              f\"\\t\\tPredicted: 0\\t\\t\\tPredicted: 1\\n\"\n",
    "              f\"Actual: 0\\t{TN} (True Negative, TN)\\t{FP} (False Positive, FP)\\n\"\n",
    "              f\"Actual: 1\\t{FN} (False Negative, FN)\\t{TP} (True Positive, TP)\")"
   ]
  },
  {
   "cell_type": "code",
   "execution_count": 27,
   "id": "d8c928e5",
   "metadata": {
    "execution": {
     "iopub.execute_input": "2025-03-16T06:50:38.304277Z",
     "iopub.status.busy": "2025-03-16T06:50:38.303794Z",
     "iopub.status.idle": "2025-03-16T06:50:38.343057Z",
     "shell.execute_reply": "2025-03-16T06:50:38.341474Z"
    },
    "papermill": {
     "duration": 0.049193,
     "end_time": "2025-03-16T06:50:38.344917",
     "exception": false,
     "start_time": "2025-03-16T06:50:38.295724",
     "status": "completed"
    },
    "tags": []
   },
   "outputs": [
    {
     "name": "stdout",
     "output_type": "stream",
     "text": [
      "<class 'pandas.core.frame.DataFrame'>\n",
      "RangeIndex: 4277 entries, 0 to 4276\n",
      "Data columns (total 13 columns):\n",
      " #   Column        Non-Null Count  Dtype  \n",
      "---  ------        --------------  -----  \n",
      " 0   PassengerId   4277 non-null   object \n",
      " 1   HomePlanet    4190 non-null   object \n",
      " 2   CryoSleep     4184 non-null   object \n",
      " 3   Cabin         4177 non-null   object \n",
      " 4   Destination   4185 non-null   object \n",
      " 5   Age           4186 non-null   float64\n",
      " 6   VIP           4184 non-null   object \n",
      " 7   RoomService   4195 non-null   float64\n",
      " 8   FoodCourt     4171 non-null   float64\n",
      " 9   ShoppingMall  4179 non-null   float64\n",
      " 10  Spa           4176 non-null   float64\n",
      " 11  VRDeck        4197 non-null   float64\n",
      " 12  Name          4183 non-null   object \n",
      "dtypes: float64(6), object(7)\n",
      "memory usage: 434.5+ KB\n"
     ]
    }
   ],
   "source": [
    "df = pd.read_csv('/kaggle/input/spaceship-titanic/test.csv')\n",
    "if analysis:\n",
    "    df.info()"
   ]
  },
  {
   "cell_type": "code",
   "execution_count": 28,
   "id": "cd70a580",
   "metadata": {
    "execution": {
     "iopub.execute_input": "2025-03-16T06:50:38.361002Z",
     "iopub.status.busy": "2025-03-16T06:50:38.360683Z",
     "iopub.status.idle": "2025-03-16T06:50:40.010677Z",
     "shell.execute_reply": "2025-03-16T06:50:40.009556Z"
    },
    "papermill": {
     "duration": 1.659907,
     "end_time": "2025-03-16T06:50:40.012263",
     "exception": false,
     "start_time": "2025-03-16T06:50:38.352356",
     "status": "completed"
    },
    "tags": []
   },
   "outputs": [
    {
     "name": "stderr",
     "output_type": "stream",
     "text": [
      "<ipython-input-28-f6e24bdb0062>:13: FutureWarning: Downcasting object dtype arrays on .fillna, .ffill, .bfill is deprecated and will change in a future version. Call result.infer_objects(copy=False) instead. To opt-in to the future behavior, set `pd.set_option('future.no_silent_downcasting', True)`\n",
      "  df['CryoSleep'] = df['CryoSleep'].fillna(df['CryoSleep'].mode()[0] if not df['CryoSleep'].mode().empty else None)\n",
      "<ipython-input-28-f6e24bdb0062>:14: FutureWarning: Downcasting object dtype arrays on .fillna, .ffill, .bfill is deprecated and will change in a future version. Call result.infer_objects(copy=False) instead. To opt-in to the future behavior, set `pd.set_option('future.no_silent_downcasting', True)`\n",
      "  df['VIP'] = df['VIP'].fillna(df['VIP'].mode()[0] if not df['VIP'].mode().empty else None)\n"
     ]
    },
    {
     "name": "stdout",
     "output_type": "stream",
     "text": [
      "Your submission was successfully saved!\n"
     ]
    }
   ],
   "source": [
    "# On actual test data\n",
    "df = pd.read_csv('/kaggle/input/spaceship-titanic/test.csv')\n",
    "submission_id = df.PassengerId\n",
    "\n",
    "df = df.drop(columns = ['PassengerId', 'Name'], axis=1)\n",
    "\n",
    "# Creating new features for deck and cabin side\n",
    "df[['CabinDeck', 'CabinNumber', 'CabinSide']] = df[\"Cabin\"].str.split(\"/\", expand=True)\n",
    "df = df.drop(columns = [\"Cabin\", \"CabinNumber\"], axis=1)\n",
    "\n",
    "#Imputing the data to ensure there are no missing values in the columns\n",
    "#Starting with VIP and CryoSleep because they are true or false valued strings\n",
    "df['CryoSleep'] = df['CryoSleep'].fillna(df['CryoSleep'].mode()[0] if not df['CryoSleep'].mode().empty else None)\n",
    "df['VIP'] = df['VIP'].fillna(df['VIP'].mode()[0] if not df['VIP'].mode().empty else None)\n",
    "\n",
    "#We use one-hot encoding on columns where the data are strings and cannot be converted to a true or false value\n",
    "df = pd.get_dummies(df, columns=['HomePlanet', 'Destination', 'CabinDeck', 'CabinSide'], drop_first=False)\n",
    "\n",
    "#Lastly imputing all of the missing values for the columns of data type float 64\n",
    "df['Age'] = df['Age'].fillna(df['Age'].mean())\n",
    "df['RoomService'] = df['RoomService'].fillna(df['RoomService'].mean())\n",
    "df['FoodCourt'] = df['FoodCourt'].fillna(df['FoodCourt'].mean())\n",
    "df['ShoppingMall'] = df['ShoppingMall'].fillna(df['ShoppingMall'].mean())\n",
    "df['Spa'] = df['Spa'].fillna(df['Spa'].mean())\n",
    "df['VRDeck'] = df['VRDeck'].fillna(df['VRDeck'].mean())\n",
    "\n",
    "#Converting every last column to a data type of float 64\n",
    "df = df.astype('float64')\n",
    "\n",
    "features = [column for column in df.columns if column != 'Transported']\n",
    "X_train = df[features]\n",
    "\n",
    "# Get the predictions for testdata\n",
    "if run_voting:\n",
    "    predictions = voting_classifier.predict(X_train)\n",
    "elif run_stacking:\n",
    "    predictions = stacking_classifier.predict(X_train)\n",
    "    \n",
    "n_predictions = (predictions > 0.5).astype(bool)\n",
    "output = pd.DataFrame({'PassengerId': submission_id,\n",
    "                       'Transported': n_predictions.squeeze()})\n",
    "\n",
    "output.to_csv('submission.csv', index=False)\n",
    "print(\"Your submission was successfully saved!\")"
   ]
  }
 ],
 "metadata": {
  "kaggle": {
   "accelerator": "none",
   "dataSources": [
    {
     "databundleVersionId": 3220602,
     "sourceId": 34377,
     "sourceType": "competition"
    }
   ],
   "dockerImageVersionId": 30918,
   "isGpuEnabled": false,
   "isInternetEnabled": false,
   "language": "python",
   "sourceType": "notebook"
  },
  "kernelspec": {
   "display_name": "Python 3",
   "language": "python",
   "name": "python3"
  },
  "language_info": {
   "codemirror_mode": {
    "name": "ipython",
    "version": 3
   },
   "file_extension": ".py",
   "mimetype": "text/x-python",
   "name": "python",
   "nbconvert_exporter": "python",
   "pygments_lexer": "ipython3",
   "version": "3.10.12"
  },
  "papermill": {
   "default_parameters": {},
   "duration": 447.281692,
   "end_time": "2025-03-16T06:50:40.639364",
   "environment_variables": {},
   "exception": null,
   "input_path": "__notebook__.ipynb",
   "output_path": "__notebook__.ipynb",
   "parameters": {},
   "start_time": "2025-03-16T06:43:13.357672",
   "version": "2.6.0"
  }
 },
 "nbformat": 4,
 "nbformat_minor": 5
}
